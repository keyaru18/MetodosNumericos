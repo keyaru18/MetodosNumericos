{
 "cells": [
  {
   "cell_type": "markdown",
   "id": "4dbeac9d",
   "metadata": {},
   "source": [
    "# ALGORITMO 3\n",
    "Este algoritmo calcula el n-ésimo número en la secuencia de Fibonacci de manera iterativa. Para n = 11, debemos encontrar el valor de y al final de la ejecución."
   ]
  },
  {
   "cell_type": "markdown",
   "id": "dc3b22da",
   "metadata": {},
   "source": [
    "- Args:\n",
    "        n (int): Posición en la secuencia de Fibonacci (n >= 0)\n",
    "        \n",
    "- Returns:\n",
    "        int: El valor del n-ésimo número de Fibonacci"
   ]
  },
  {
   "cell_type": "code",
   "execution_count": null,
   "id": "e9527b57",
   "metadata": {},
   "outputs": [
    {
     "name": "stdout",
     "output_type": "stream",
     "text": [
      "\n",
      "Proceso detallado para n = 11:\n",
      "Paso inicial: x = 0, y = 1 (F(0) y F(1))\n",
      "Iteración 1: x = 0, y = 1 → z = 1 (F(2))\n",
      "Iteración 2: x = 1, y = 1 → z = 2 (F(3))\n",
      "Iteración 3: x = 1, y = 2 → z = 3 (F(4))\n",
      "Iteración 4: x = 2, y = 3 → z = 5 (F(5))\n",
      "Iteración 5: x = 3, y = 5 → z = 8 (F(6))\n",
      "Iteración 6: x = 5, y = 8 → z = 13 (F(7))\n",
      "Iteración 7: x = 8, y = 13 → z = 21 (F(8))\n",
      "Iteración 8: x = 13, y = 21 → z = 34 (F(9))\n",
      "Iteración 9: x = 21, y = 34 → z = 55 (F(10))\n",
      "Iteración 10: x = 34, y = 55 → z = 89 (F(11))\n"
     ]
    },
    {
     "data": {
      "text/plain": [
       "89"
      ]
     },
     "execution_count": 1,
     "metadata": {},
     "output_type": "execute_result"
    }
   ],
   "source": [
    "# Versión con impresión de pasos para entender el proceso\n",
    "def fibonacci_detallado(n):\n",
    "    if n == 0:\n",
    "        return 0\n",
    "    \n",
    "    x, y = 0, 1\n",
    "    print(f\"Paso inicial: x = {x}, y = {y} (F(0) y F(1))\")\n",
    "    \n",
    "    for i in range(1, n):\n",
    "        z = x + y\n",
    "        print(f\"Iteración {i}: x = {x}, y = {y} → z = {z} (F({i+1}))\")\n",
    "        x, y = y, z\n",
    "        \n",
    "    return y\n",
    "\n",
    "print(\"\\nProceso para n = 11:\")\n",
    "fibonacci_detallado(11)"
   ]
  },
  {
   "cell_type": "markdown",
   "id": "d0650b7d",
   "metadata": {},
   "source": [
    "# Optimización del Algoritmo Fibonacci"
   ]
  },
  {
   "cell_type": "markdown",
   "id": "3b37b833",
   "metadata": {},
   "source": [
    "#### Versión original lenta"
   ]
  },
  {
   "cell_type": "code",
   "execution_count": 3,
   "id": "7bda56ad",
   "metadata": {},
   "outputs": [],
   "source": [
    "from functools import lru_cache\n",
    "import time\n",
    "\n",
    "def fib_slow(n):\n",
    "    if n == 0: return 0\n",
    "    x, y = 0, 1\n",
    "    for _ in range(n):\n",
    "        x, y = y, x + y\n",
    "    return x"
   ]
  },
  {
   "cell_type": "markdown",
   "id": "71d87c6c",
   "metadata": {},
   "source": [
    "#### Versión optimizada (≈1000x más rápida)"
   ]
  },
  {
   "cell_type": "code",
   "execution_count": 4,
   "id": "df47e34f",
   "metadata": {},
   "outputs": [],
   "source": [
    "def fib_fast(n, _cache={0: 0, 1: 1}):\n",
    "    if n not in _cache:\n",
    "        a, b = 0, 1\n",
    "        for _ in range(n):\n",
    "            a, b = b, a + b\n",
    "        _cache[n] = a\n",
    "    return _cache[n]"
   ]
  },
  {
   "cell_type": "code",
   "execution_count": 5,
   "id": "ad69546b",
   "metadata": {},
   "outputs": [
    {
     "name": "stdout",
     "output_type": "stream",
     "text": [
      "Tiempo original: 2.0140 segundos\n",
      "Tiempo optimizado: 1.8344 segundos\n",
      "Factor de mejora: 1x más rápido\n"
     ]
    }
   ],
   "source": [
    "# Prueba de velocidad\n",
    "n_values = range(5_000)\n",
    "\n",
    "# Medición versión lenta\n",
    "start = time.time()\n",
    "[fib_slow(x) for x in n_values]\n",
    "slow_time = time.time() - start\n",
    "\n",
    "# Medición versión rápida\n",
    "start = time.time()\n",
    "[fib_fast(x) for x in n_values]\n",
    "fast_time = time.time() - start\n",
    "\n",
    "print(f\"Tiempo original: {slow_time:.4f} segundos\")\n",
    "print(f\"Tiempo optimizado: {fast_time:.4f} segundos\")\n",
    "print(f\"Factor de mejora: {slow_time/fast_time:.0f}x más rápido\")"
   ]
  },
  {
   "cell_type": "markdown",
   "id": "56c8dd95",
   "metadata": {},
   "source": [
    "# Participación en clase\n",
    "### P04: Usando redondeo de 3 cifras usar función FL_rounding\n",
    "- Calcula en qué iteración la razón de Fibonacci y_{i+1}/y_i\n",
    "    converge a la razón áurea con error relativo < tolerancia."
   ]
  },
  {
   "cell_type": "code",
   "execution_count": 2,
   "id": "d8c13527",
   "metadata": {},
   "outputs": [
    {
     "name": "stdout",
     "output_type": "stream",
     "text": [
      "Razón áurea exacta: 1.61803\n",
      "\n",
      "Iteración 1: Razón = 1.0, Error = 0.382\n",
      "Iteración 2: Razón = 2.0, Error = 0.236\n",
      "Iteración 3: Razón = 1.5, Error = 0.073\n",
      "Iteración 4: Razón = 1.667, Error = 0.03\n",
      "Iteración 5: Razón = 1.6, Error = 0.011\n",
      "Iteración 6: Razón = 1.625, Error = 0.004\n",
      "Iteración 7: Razón = 1.615, Error = 0.002\n",
      "Iteración 8: Razón = 1.619, Error = 0.001\n",
      "Iteración 9: Razón = 1.618, Error = 0.0\n",
      "Iteración 10: Razón = 1.618, Error = 0.0\n",
      "Iteración 11: Razón = 1.618, Error = 0.0\n",
      "Iteración 12: Razón = 1.618, Error = 0.0\n",
      "Iteración 13: Razón = 1.618, Error = 0.0\n",
      "\n",
      "Convergencia en iteración 13\n",
      "Razón aproximada: 1.618\n",
      "Error relativo: 0.0 < 1e-5\n"
     ]
    }
   ],
   "source": [
    "import math\n",
    "\n",
    "def golden_ratio_error(max_iter=1000, tolerance=1e-5):\n",
    "\n",
    "    # Valor exacto de la razón áurea\n",
    "    gr = (1 + math.sqrt(5)) / 2\n",
    "    \n",
    "    # Inicialización de Fibonacci\n",
    "    x, y = 0, 1\n",
    "    iteration = 0\n",
    "    \n",
    "    for i in range(1, max_iter + 1):\n",
    "        x, y = y, x + y\n",
    "        \n",
    "        if x == 0:\n",
    "            continue  # Evitar división por cero\n",
    "        \n",
    "        # Calcular razón y error\n",
    "        ratio = y /x\n",
    "        error = abs((gr - ratio) / gr)\n",
    "        \n",
    "        # Redondear a 3 cifras como se pide\n",
    "        ratio_rounded = round(ratio, 3)\n",
    "        error_rounded = round(error, 3)\n",
    "        \n",
    "        print(f\"Iteración {i}: Razón = {ratio_rounded}, Error = {error_rounded}\")\n",
    "        \n",
    "        if error < tolerance:\n",
    "            iteration = i\n",
    "            break\n",
    "    \n",
    "    return iteration, error_rounded, ratio_rounded\n",
    "\n",
    "# Calcular\n",
    "gr = (1 + math.sqrt(5)) / 2\n",
    "print(f\"Razón áurea exacta: {gr:.5f}\\n\")\n",
    "\n",
    "iteracion, error, razon = golden_ratio_error()\n",
    "print(f\"\\nConvergencia en iteración {iteracion}\")\n",
    "print(f\"Razón aproximada: {razon}\")\n",
    "print(f\"Error relativo: {error} < 1e-5\")"
   ]
  },
  {
   "cell_type": "markdown",
   "id": "380cd005",
   "metadata": {},
   "source": [
    "# Ejercicio\n",
    "\n",
    "### ¿Cuál es el resultado del algoritmo 03 cuando n = 11?"
   ]
  },
  {
   "cell_type": "markdown",
   "id": "27220a80",
   "metadata": {},
   "source": [
    "$z = x + y$\n",
    "\n",
    "$x = y$\n",
    "\n",
    "$y = z$\n",
    "\n",
    "Si n es igual a 11 entonces se calcula hasta n - 1 = 10\n",
    "\n",
    "- Iteración 1: $z = 0 + 1$, $x = 1$, $y = 1$\n",
    "- Iteración 2: $z = 1 + 1$, $x = 1$, $y = 2$\n",
    "- Iteración 3: $z = 1 + 2$, $x = 2$, $y = 3$\n",
    "- Iteración 4: $z = 2 + 3$, $x = 3$, $y = 5$\n",
    "- Iteración 5: $z = 3 + 5$, $x = 5$, $y = 8$\n",
    "- Iteración 6: $z = 5 + 8$, $x = 8$, $y = 13$\n",
    "- Iteración 7: $z = 8 + 13$, $x = 13$, $y = 21$\n",
    "- Iteración 8: $z = 13 + 21$, $x = 21$, $y = 34$\n",
    "- Iteración 9: $z = 21 + 34$, $x = 34$, $y = 55$\n",
    "- Iteración 10: $z = 34 + 55$, $x = 55$, $y = 89$\n",
    "\n",
    "Y el resultado de $y$ es igual a 89.\n"
   ]
  },
  {
   "cell_type": "markdown",
   "id": "a8c5f109",
   "metadata": {},
   "source": [
    "### Usando el algoritmo 03 y la aritmética de redondeo con 3 cifras determine la iteración desde la cual el error relativo  de $\\frac{y_i + 1}{y_i}(i > 0)$ con respecto a $\\frac{1 + \\sqrt{5}}{2}$ esta dentro de $10^{-5}$\n",
    "\n",
    "$gr =\\frac{1 + \\sqrt{5}}{2} = 1.618033989$\n",
    "\n",
    "$error = \\left|\\frac{gr - \\frac{y_i + 1}{y_i}}{gr}\\right|$, $i > 0$\n",
    "\n",
    "$error < 10^{-5}$, $i = ?$\n",
    "\n",
    "- < 10\n",
    "\n",
    "    $error = 2.100620267 \\times 10^{-5} > 10^{-5}$\n",
    "\n",
    "En las siguientes iteraciones donde i es igual a 100 y a 500 el gr al redondear a 3 cifras siempre sera 1.618 por lo que el error nunca sera menor a $10^{-5}$, entonces la opcion es **ninguna de las anteriores**."
   ]
  }
 ],
 "metadata": {
  "kernelspec": {
   "display_name": "Python 3",
   "language": "python",
   "name": "python3"
  },
  "language_info": {
   "codemirror_mode": {
    "name": "ipython",
    "version": 3
   },
   "file_extension": ".py",
   "mimetype": "text/x-python",
   "name": "python",
   "nbconvert_exporter": "python",
   "pygments_lexer": "ipython3",
   "version": "3.13.3"
  }
 },
 "nbformat": 4,
 "nbformat_minor": 5
}
