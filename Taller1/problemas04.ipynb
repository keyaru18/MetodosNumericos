{
 "cells": [
  {
   "cell_type": "markdown",
   "id": "88afc4a1",
   "metadata": {},
   "source": [
    "# Algoritmo 4\n",
    "- Implemente la serie geométrica"
   ]
  },
  {
   "cell_type": "markdown",
   "id": "e775506e",
   "metadata": {},
   "source": [
    "##### Args:\n",
    "- terminos (int): Número de términos a sumar (por defecto 1,000,000)\n",
    "        \n",
    "##### Returns:\n",
    "- float: Suma parcial de la serie"
   ]
  },
  {
   "cell_type": "code",
   "execution_count": 1,
   "id": "3f1b66fc",
   "metadata": {},
   "outputs": [
    {
     "name": "stdout",
     "output_type": "stream",
     "text": [
      "Aproximación para n grande: 14.392726722866\n"
     ]
    }
   ],
   "source": [
    "import math\n",
    "\n",
    "def serie_armonica_eficiente(terminos=1_000_000):\n",
    "    \"\"\"Versión optimizada usando la aproximación asintótica\"\"\"\n",
    "    if terminos < 1_000:\n",
    "        # Para pocos términos, calculamos directamente\n",
    "        return sum(1/n for n in range(1, terminos+1))\n",
    "    else:\n",
    "        # Para muchos términos, usamos aproximación\n",
    "        gamma = 0.57721566490153286060  # Constante de Euler-Mascheroni\n",
    "        return math.log(terminos) + gamma + 1/(2*terminos)\n",
    "\n",
    "# Ejemplo de uso\n",
    "print(f\"Aproximación para n grande: {serie_armonica_eficiente():.12f}\")"
   ]
  },
  {
   "cell_type": "markdown",
   "id": "82f93f09",
   "metadata": {},
   "source": [
    "La serie no converge a un valor finito, sino que diverge hacia infinito. Las sumas parciales aumentan cada vez más aunque muy lentamente, conforme agregamos más términos."
   ]
  },
  {
   "cell_type": "markdown",
   "id": "aad7d9a9",
   "metadata": {},
   "source": [
    "# Ejercicio\n",
    "- A que valor converge el algoritmo 04?\n",
    "∞"
   ]
  },
  {
   "cell_type": "markdown",
   "id": "d638cc08",
   "metadata": {},
   "source": [
    "El Algoritmo 04 (serie armónica) NO CONVERGE, su suma es ∞ (infinito)"
   ]
  },
  {
   "cell_type": "code",
   "execution_count": null,
   "id": "45628c47",
   "metadata": {},
   "outputs": [
    {
     "name": "stdout",
     "output_type": "stream",
     "text": [
      "5.187377517639621\n",
      "7.485470860550345\n",
      "14.392726722865724\n"
     ]
    }
   ],
   "source": [
    "def suma_armonica(n):\n",
    "    return sum(1/i for i in range(1, n+1))\n",
    "\n",
    "print(suma_armonica(100))     # ≈ 5.18  \n",
    "print(suma_armonica(1000))    # ≈ 7.48  \n",
    "print(suma_armonica(1000000)) # ≈ 14.39  "
   ]
  },
  {
   "cell_type": "markdown",
   "id": "e8262ada",
   "metadata": {},
   "source": [
    "La suma sigue creciendo sin límite → Diverge a ∞."
   ]
  }
 ],
 "metadata": {
  "kernelspec": {
   "display_name": "Python 3",
   "language": "python",
   "name": "python3"
  },
  "language_info": {
   "codemirror_mode": {
    "name": "ipython",
    "version": 3
   },
   "file_extension": ".py",
   "mimetype": "text/x-python",
   "name": "python",
   "nbconvert_exporter": "python",
   "pygments_lexer": "ipython3",
   "version": "3.13.3"
  }
 },
 "nbformat": 4,
 "nbformat_minor": 5
}
