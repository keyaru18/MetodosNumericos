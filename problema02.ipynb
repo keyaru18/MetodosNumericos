{
 "cells": [
  {
   "cell_type": "markdown",
   "id": "f665d49f",
   "metadata": {},
   "source": [
    "# Algoritmo 2\n",
    "\n",
    "Implementación de Bubble Sort.\n",
    "    \n",
    "- Args:\n",
    "arr (list): Lista a ordenar (debe contener elementos comparables)\n",
    "        \n",
    "- Returns:\n",
    "list: Lista ordenada (la original es modificada in-place)"
   ]
  },
  {
   "cell_type": "code",
   "execution_count": 2,
   "id": "9c0969ce",
   "metadata": {},
   "outputs": [],
   "source": [
    "def bubble_sort(arr):\n",
    "    \n",
    "    n = len(arr)\n",
    "    \n",
    "    for i in range(n):\n",
    "        swapped = False\n",
    "        \n",
    "        for j in range(1, n - i):\n",
    "            if arr[j] < arr[j - 1]:\n",
    "                # Intercambiar elementos\n",
    "                arr[j], arr[j - 1] = arr[j - 1], arr[j]\n",
    "                swapped = True\n",
    "                \n",
    "        if not swapped:\n",
    "            break\n",
    "    \n",
    "    return arr"
   ]
  },
  {
   "cell_type": "code",
   "execution_count": 3,
   "id": "40174c9c",
   "metadata": {},
   "outputs": [
    {
     "name": "stdout",
     "output_type": "stream",
     "text": [
      "Original: [64, 34, 25, 12, 22, 11, 90]\n",
      "Ordenada: [11, 12, 22, 25, 34, 64, 90]\n"
     ]
    }
   ],
   "source": [
    "lista1 = [64, 34, 25, 12, 22, 11, 90]\n",
    "print(\"Original:\", lista1)\n",
    "print(\"Ordenada:\", bubble_sort(lista1.copy()))"
   ]
  },
  {
   "cell_type": "markdown",
   "id": "fd738424",
   "metadata": {},
   "source": []
  }
 ],
 "metadata": {
  "kernelspec": {
   "display_name": "Python 3",
   "language": "python",
   "name": "python3"
  },
  "language_info": {
   "codemirror_mode": {
    "name": "ipython",
    "version": 3
   },
   "file_extension": ".py",
   "mimetype": "text/x-python",
   "name": "python",
   "nbconvert_exporter": "python",
   "pygments_lexer": "ipython3",
   "version": "3.13.3"
  }
 },
 "nbformat": 4,
 "nbformat_minor": 5
}
