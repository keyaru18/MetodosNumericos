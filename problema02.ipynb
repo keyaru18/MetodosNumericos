{
 "cells": [
  {
   "cell_type": "code",
   "execution_count": 1,
   "id": "9c0969ce",
   "metadata": {},
   "outputs": [
    {
     "name": "stdout",
     "output_type": "stream",
     "text": [
      "Lista original: [64, 34, 25, 12, 22, 11, 90]\n",
      "Lista ordenada: [11, 12, 22, 25, 34, 64, 90]\n",
      "\n",
      "Lista original: [5, 1, 4, 2, 8]\n",
      "Lista ordenada: [1, 2, 4, 5, 8]\n"
     ]
    }
   ],
   "source": [
    "def bubble_sort(arr):\n",
    "    \"\"\"\n",
    "    Implementación del algoritmo Bubble Sort con optimización.\n",
    "    \n",
    "    Args:\n",
    "        arr (list): Lista de elementos a ordenar (debe contener elementos comparables)\n",
    "        \n",
    "    Returns:\n",
    "        list: Lista ordenada\n",
    "    \"\"\"\n",
    "    n = len(arr)\n",
    "    \n",
    "    for i in range(n):\n",
    "        # Flag para optimización\n",
    "        swapped = False\n",
    "        \n",
    "        for j in range(1, n - i):\n",
    "            if arr[j] < arr[j - 1]:\n",
    "                # Intercambiar elementos\n",
    "                arr[j], arr[j - 1] = arr[j - 1], arr[j]\n",
    "                swapped = True\n",
    "                \n",
    "        # Si no hubo intercambios en esta pasada, el arreglo ya está ordenado\n",
    "        if not swapped:\n",
    "            break\n",
    "    \n",
    "    return arr\n",
    "\n",
    "\n",
    "# Ejemplo de uso\n",
    "if __name__ == \"__main__\":\n",
    "    # Caso de prueba 1\n",
    "    lista1 = [64, 34, 25, 12, 22, 11, 90]\n",
    "    print(\"Lista original:\", lista1)\n",
    "    lista_ordenada = bubble_sort(lista1)\n",
    "    print(\"Lista ordenada:\", lista_ordenada)\n",
    "    \n",
    "    # Caso de prueba 2\n",
    "    lista2 = [5, 1, 4, 2, 8]\n",
    "    print(\"\\nLista original:\", lista2)\n",
    "    print(\"Lista ordenada:\", bubble_sort(lista2))"
   ]
  }
 ],
 "metadata": {
  "kernelspec": {
   "display_name": "Python 3",
   "language": "python",
   "name": "python3"
  },
  "language_info": {
   "codemirror_mode": {
    "name": "ipython",
    "version": 3
   },
   "file_extension": ".py",
   "mimetype": "text/x-python",
   "name": "python",
   "nbconvert_exporter": "python",
   "pygments_lexer": "ipython3",
   "version": "3.13.3"
  }
 },
 "nbformat": 4,
 "nbformat_minor": 5
}
