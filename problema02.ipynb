{
 "cells": [
  {
   "cell_type": "markdown",
   "id": "f665d49f",
   "metadata": {},
   "source": [
    "# Algoritmo 2\n",
    "\n",
    "Implementación de Bubble Sort.\n",
    "    \n",
    "- Args:\n",
    "arr (list): Lista a ordenar (debe contener elementos comparables)\n",
    "        \n",
    "- Returns:\n",
    "list: Lista ordenada (la original es modificada in-place)"
   ]
  },
  {
   "cell_type": "code",
   "execution_count": 2,
   "id": "9c0969ce",
   "metadata": {},
   "outputs": [],
   "source": [
    "def bubble_sort(arr):\n",
    "    \n",
    "    n = len(arr)\n",
    "    \n",
    "    for i in range(n):\n",
    "        swapped = False\n",
    "        \n",
    "        for j in range(1, n - i):\n",
    "            if arr[j] < arr[j - 1]:\n",
    "                # Intercambiar elementos\n",
    "                arr[j], arr[j - 1] = arr[j - 1], arr[j]\n",
    "                swapped = True\n",
    "                \n",
    "        if not swapped:\n",
    "            break\n",
    "    \n",
    "    return arr"
   ]
  },
  {
   "cell_type": "code",
   "execution_count": 3,
   "id": "40174c9c",
   "metadata": {},
   "outputs": [
    {
     "name": "stdout",
     "output_type": "stream",
     "text": [
      "Original: [64, 34, 25, 12, 22, 11, 90]\n",
      "Ordenada: [11, 12, 22, 25, 34, 64, 90]\n"
     ]
    }
   ],
   "source": [
    "lista1 = [64, 34, 25, 12, 22, 11, 90]\n",
    "print(\"Original:\", lista1)\n",
    "print(\"Ordenada:\", bubble_sort(lista1.copy()))"
   ]
  },
  {
   "cell_type": "markdown",
   "id": "a752af20",
   "metadata": {},
   "source": [
    "# Ejercicio\n",
    "Modifique el algoritmo 02 y determine el numero de comparaciones realizadas la ordenar la serie 5 4 3 2 1"
   ]
  },
  {
   "cell_type": "code",
   "execution_count": null,
   "id": "41d42aab",
   "metadata": {},
   "outputs": [],
   "source": [
    "def bubble_sort_with_count(arr):\n",
    "\n",
    "    n = len(arr)\n",
    "    comparaciones = 0  # Contador de comparaciones\n",
    "    \n",
    "    for i in range(n):\n",
    "        swapped = False\n",
    "        \n",
    "        for j in range(1, n - i):\n",
    "            comparaciones += 1  # Contamos cada comparación\n",
    "            if arr[j] < arr[j - 1]:\n",
    "                arr[j], arr[j - 1] = arr[j - 1], arr[j]\n",
    "                swapped = True\n",
    "                \n",
    "        if not swapped:\n",
    "            break\n",
    "    \n",
    "    return arr, comparaciones\n"
   ]
  },
  {
   "cell_type": "markdown",
   "id": "eb0044f7",
   "metadata": {},
   "source": [
    "### Ordenar la serie [5, 4, 3, 2, 1] y mostrar comparaciones"
   ]
  },
  {
   "cell_type": "code",
   "execution_count": 5,
   "id": "e49eb314",
   "metadata": {},
   "outputs": [
    {
     "name": "stdout",
     "output_type": "stream",
     "text": [
      "Lista original: [5, 4, 3, 2, 1]\n",
      "Lista ordenada: [1, 2, 3, 4, 5]\n",
      "Total de comparaciones realizadas: 10\n"
     ]
    }
   ],
   "source": [
    "\n",
    "lista = [5, 4, 3, 2, 1]\n",
    "print(\"Lista original:\", lista)\n",
    "\n",
    "lista_ordenada, total_comparaciones = bubble_sort_with_count(lista.copy())\n",
    "print(\"Lista ordenada:\", lista_ordenada)\n",
    "print(\"Total de comparaciones realizadas:\", total_comparaciones)"
   ]
  }
 ],
 "metadata": {
  "kernelspec": {
   "display_name": "Python 3",
   "language": "python",
   "name": "python3"
  },
  "language_info": {
   "codemirror_mode": {
    "name": "ipython",
    "version": 3
   },
   "file_extension": ".py",
   "mimetype": "text/x-python",
   "name": "python",
   "nbconvert_exporter": "python",
   "pygments_lexer": "ipython3",
   "version": "3.13.3"
  }
 },
 "nbformat": 4,
 "nbformat_minor": 5
}
